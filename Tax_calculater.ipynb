{
  "nbformat": 4,
  "nbformat_minor": 0,
  "metadata": {
    "colab": {
      "provenance": [],
      "authorship_tag": "ABX9TyOK4hWzCK2WhDEUnZNxje5e",
      "include_colab_link": true
    },
    "kernelspec": {
      "name": "python3",
      "display_name": "Python 3"
    },
    "language_info": {
      "name": "python"
    }
  },
  "cells": [
    {
      "cell_type": "markdown",
      "metadata": {
        "id": "view-in-github",
        "colab_type": "text"
      },
      "source": [
        "<a href=\"https://colab.research.google.com/github/Ibrahim-harb/Tax_calculater/blob/main/Tax_calculater.ipynb\" target=\"_parent\"><img src=\"https://colab.research.google.com/assets/colab-badge.svg\" alt=\"Open In Colab\"/></a>"
      ]
    },
    {
      "cell_type": "code",
      "source": [
        "\n",
        "def tax_calculater (salary, residency):\n",
        "  tax=0\n",
        "  if residency== True:\n",
        "    if salary > 500000:\n",
        "        remaining = salary - 500000\n",
        "        tax += remaining * 0.30\n",
        "        salary = 500000\n",
        "\n",
        "    if salary > 250000:\n",
        "        remaining = salary - 250000\n",
        "        tax += remaining * 0.20\n",
        "        salary = 250000\n",
        "\n",
        "    if salary > 150000:\n",
        "        remaining = salary - 150000\n",
        "        tax += remaining * 0.15\n",
        "        salary = 150000\n",
        "\n",
        "    if salary > 75000:\n",
        "        remaining = salary - 75000\n",
        "        tax += remaining * 0.10\n",
        "        salary = 75000\n",
        "\n",
        "    if salary > 0:\n",
        "        tax += salary * 0.05\n",
        "    return tax\n",
        "  else:\n",
        "    print(f\"You are not residance, no tax\")\n",
        "    return 0\n",
        "\n",
        "salary = 550000\n",
        "residency= True\n",
        "total_tax = tax_calculater(salary, residency)\n",
        "print(f\"The total tax is {total_tax} ILS.\")\n",
        "\n",
        "\n"
      ],
      "metadata": {
        "colab": {
          "base_uri": "https://localhost:8080/"
        },
        "id": "TcBbkgMQqqF6",
        "outputId": "22631590-d0a5-4edd-d776-b3dda510c2b0"
      },
      "execution_count": 43,
      "outputs": [
        {
          "output_type": "stream",
          "name": "stdout",
          "text": [
            "The total tax is 91250.0 ILS.\n"
          ]
        }
      ]
    }
  ]
}